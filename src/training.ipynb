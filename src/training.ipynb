{
 "cells": [
  {
   "cell_type": "code",
   "execution_count": 26,
   "metadata": {},
   "outputs": [],
   "source": [
    "import torch\n",
    "import torchvision\n",
    "import torchvision.transforms as transforms\n",
    "import torch.nn as nn\n",
    "import torch.optim as optim\n",
    "import torch.nn.functional as F\n",
    "import matplotlib.pyplot as plt\n",
    "import numpy as np\n",
    "import os\n",
    "import time\n",
    "from torch.utils.data import TensorDataset, DataLoader\n",
    "import logging\n",
    "from tqdm.notebook import tqdm"
   ]
  },
  {
   "cell_type": "code",
   "execution_count": 27,
   "metadata": {},
   "outputs": [],
   "source": [
    "logging.basicConfig(level=logging.INFO, format='%(asctime)s - %(name)s - %(levelname)s - %(message)s')\n",
    "data_logger = logging.getLogger(\" DATA\")\n"
   ]
  },
  {
   "cell_type": "markdown",
   "metadata": {},
   "source": [
    "```markdown\n",
    "we are using `data0` and `data1` for training, and `data2` for testing. This setup allows us to train our model on a diverse set of data and evaluate its performance on a separate test set to ensure generalization.\n",
    "```"
   ]
  },
  {
   "cell_type": "code",
   "execution_count": 28,
   "metadata": {},
   "outputs": [],
   "source": [
    "#! Data processing\n",
    "\n",
    "def load_data():\n",
    "    img_data_0 = np.load('../data/data0.npy')\n",
    "    img_data_1 = np.load('../data/data1.npy')\n",
    "    img_data_2 = np.load('../data/data2.npy')\n",
    "    img_label0 = np.load('../data/lab0.npy')\n",
    "    img_label1 = np.load('../data/lab1.npy')\n",
    "    img_label2 = np.load('../data/lab2.npy')\n",
    "\n",
    "    xtrain = torch.tensor(np.concatenate((img_data_0, img_data_1)),dtype=torch.float32).unsqueeze(1)\n",
    "    xtest = torch.tensor(img_data_2,dtype=torch.float32).unsqueeze(1)\n",
    "\n",
    "    ytrain = torch.tensor(np.concatenate((img_label0, img_label1)),dtype=torch.float32)\n",
    "    ytest = torch.tensor(img_label2,dtype=torch.float32)\n",
    "\n",
    "    train_dataset = TensorDataset(xtrain, ytrain)\n",
    "    train_dataloader = DataLoader(train_dataset, batch_size=64, shuffle=True)\n",
    "\n",
    "    test_dataset = TensorDataset(xtest, ytest)\n",
    "\n",
    "    # Split the test set into validation and test sets\n",
    "    val_size = int(0.2 * len(xtest))\n",
    "    test_size = len(xtest) - val_size\n",
    "\n",
    "    val_dataset, test_dataset = torch.utils.data.random_split(test_dataset, [val_size, test_size])\n",
    "    val_dataloader = DataLoader(val_dataset, batch_size=64, shuffle=True)\n",
    "    test_dataloader = DataLoader(test_dataset, batch_size=64, shuffle=True)\n",
    "\n",
    "    data_logger.info(\"Data loaded successfully\")\n",
    "    return {\n",
    "        \"train_dataloader\": train_dataloader,\n",
    "        \"test_dataloader\": test_dataloader,\n",
    "        \"val_dataloader\": val_dataloader,\n",
    "        \"train_dataset\": train_dataset,\n",
    "        \"test_dataset\": test_dataset,\n",
    "        \"val_dataset\": val_dataset,\n",
    "        \"xtrain\": xtrain,\n",
    "        \"xtest\": xtest,\n",
    "        \"ytrain\": ytrain,\n",
    "        \"ytest\": ytest\n",
    "    }\n",
    "\n"
   ]
  },
  {
   "cell_type": "code",
   "execution_count": 29,
   "metadata": {},
   "outputs": [],
   "source": [
    "#! visualisation\n",
    "\n",
    "def visualize(test_dataloader,train_dataloader):\n",
    "    test_data_iter = iter(test_dataloader)\n",
    "    test_images, test_labels = next(test_data_iter)\n",
    "\n",
    "    # Plot the first 4 images in the batch\n",
    "    fig, axes = plt.subplots(1, 4, figsize=(10, 2.5))\n",
    "    for i in range(4):\n",
    "        ax = axes[i]\n",
    "        ax.imshow(test_images[i].numpy().squeeze(), cmap='gray')\n",
    "        ax.set_title(f'Label: {test_labels[i].item()}')\n",
    "        ax.axis('off')\n",
    "    plt.show()\n",
    "    # Iterate through the DataLoader\n",
    "    for i, (inputs, labels) in enumerate(train_dataloader):\n",
    "        print(f\"Batch {i + 1}:\")\n",
    "        print(f\"  Input shape: {inputs.shape}\")\n",
    "        print(f\"  Labels shape: {labels.shape}\")\n",
    "        # Break after the first batch to limit output (optional)\n",
    "        break\n",
    "    data_logger.info(\"Data visualisation done\")\n"
   ]
  },
  {
   "cell_type": "code",
   "execution_count": 30,
   "metadata": {},
   "outputs": [],
   "source": [
    "model_logger = logging.getLogger(\"MODEL\")"
   ]
  },
  {
   "cell_type": "code",
   "execution_count": 31,
   "metadata": {},
   "outputs": [],
   "source": [
    "class CNN(nn.Module):\n",
    "    def __init__(self):\n",
    "        super(CNN, self).__init__()\n",
    "        self.conv1 = nn.Conv2d(in_channels=1, out_channels=32, kernel_size=3, stride=1, padding=1)\n",
    "        self.bn1 = nn.BatchNorm2d(32)\n",
    "        self.conv2 = nn.Conv2d(in_channels=32, out_channels=64, kernel_size=3, stride=1, padding=1)\n",
    "        self.bn2 = nn.BatchNorm2d(64)\n",
    "        self.conv3 = nn.Conv2d(in_channels=64, out_channels=128, kernel_size=3, stride=1, padding=1)\n",
    "        self.bn3 = nn.BatchNorm2d(128)\n",
    "        self.conv4 = nn.Conv2d(in_channels=128, out_channels=256, kernel_size=3, stride=1, padding=1)\n",
    "        self.bn4 = nn.BatchNorm2d(256)\n",
    "        self.pool = nn.MaxPool2d(kernel_size=2, stride=2, padding=0)\n",
    "        self.dropout = nn.Dropout(p=0.5)\n",
    "\n",
    "        # Calculate the flattened size\n",
    "        \n",
    "        self.fc1 = nn.Linear(64*4*20, 512)\n",
    "        self.fc2 = nn.Linear(512, 256)\n",
    "        self.fc3 = nn.Linear(256, 37) \n",
    "\n",
    "    def forward(self, x):\n",
    "        x = self.pool(F.relu(self.bn1(self.conv1(x))))\n",
    "\n",
    "        x = self.pool(F.relu(self.bn2(self.conv2(x))))\n",
    "\n",
    "        x = self.pool(F.relu(self.bn3(self.conv3(x))))\n",
    "\n",
    "        x = self.pool(F.relu(self.bn4(self.conv4(x))))\n",
    "\n",
    "        x = x.view(-1, 256*2*10)  # Use dynamically computed size\n",
    "\n",
    "        x = F.relu(self.fc1(x))\n",
    "\n",
    "        x = self.dropout(x)\n",
    "\n",
    "        x = F.relu(self.fc2(x))\n",
    "\n",
    "        x = self.fc3(x)\n",
    "\n",
    "        return x"
   ]
  },
  {
   "cell_type": "code",
   "execution_count": 32,
   "metadata": {},
   "outputs": [],
   "source": [
    "class Model:\n",
    "    def __init__(self):\n",
    "        pass\n",
    "\n",
    "    def set_params(self,device,net,data,optim=None,criterion=nn.CrossEntropyLoss()):\n",
    "        self.device = device\n",
    "        self.net = net\n",
    "        self.data = data\n",
    "        self.optim = optim\n",
    "        self.criterion = criterion\n",
    "        model_logger.info('Model Parameters Set')\n",
    "\n",
    "    def train(self, epochs=10, lr=0.001, patience=5):\n",
    "        self.net.to(self.device)\n",
    "        self.net.train()\n",
    "        self.optim = optim.Adam(self.net.parameters(), lr=lr) if self.optim is None else self.optim\n",
    "        model_logger.info('Start Training')\n",
    "\n",
    "        best_loss = float('inf')\n",
    "        patience_counter = 0\n",
    "\n",
    "        for epoch in tqdm(range(epochs), desc=\"Training Progress\"):\n",
    "            running_loss = 0.0\n",
    "            val_running_loss = 0.0\n",
    "\n",
    "            # Training phase\n",
    "            self.net.train()\n",
    "            for i, data in enumerate(self.data[\"train_dataloader\"], 0):\n",
    "                inputs, labels = data[0].to(self.device), data[1].to(self.device)\n",
    "                self.optim.zero_grad()\n",
    "                outputs = self.net(inputs)\n",
    "                loss = self.criterion(outputs, labels.long())\n",
    "                loss.backward()\n",
    "                self.optim.step()\n",
    "                running_loss += loss.item()\n",
    "\n",
    "            # Validation phase\n",
    "            self.net.eval()\n",
    "            with torch.no_grad():\n",
    "                for i, data in enumerate(self.data[\"val_dataloader\"], 0):\n",
    "                    inputs, labels = data[0].to(self.device), data[1].to(self.device)\n",
    "                    outputs = self.net(inputs)\n",
    "                    loss = self.criterion(outputs, labels.long())\n",
    "                    val_running_loss += loss.item()\n",
    "\n",
    "            avg_train_loss = running_loss / len(self.data[\"train_dataloader\"])\n",
    "            avg_val_loss = val_running_loss / len(self.data[\"val_dataloader\"])\n",
    "\n",
    "            tqdm.write(f\"Epoch {epoch + 1} : Training Loss: {avg_train_loss} Validation Loss: {avg_val_loss}\")\n",
    "\n",
    "            # Early stopping\n",
    "            if avg_val_loss < best_loss:\n",
    "                best_loss = avg_val_loss\n",
    "                patience_counter = 0\n",
    "                torch.save(self.net.state_dict(), 'best_model.pth')\n",
    "            else:\n",
    "                patience_counter += 1\n",
    "\n",
    "            if patience_counter >= patience:\n",
    "                model_logger.info('Early stopping triggered')\n",
    "                break\n",
    "\n",
    "        model_logger.info('Finished Training')\n",
    "\n",
    "    def test(self):\n",
    "        self.net.to(self.device)\n",
    "        self.net.eval()\n",
    "        correct = 0\n",
    "        total = 0\n",
    "        with torch.no_grad():\n",
    "            for data in self.data[\"test_dataloader\"]:\n",
    "                images, labels = data[0].to(self.device), data[1].to(self.device)\n",
    "                outputs = self.net(images)\n",
    "                _, predicted = torch.max(outputs.data, 1)\n",
    "                total += labels.size(0)\n",
    "                correct += (predicted == labels).sum().item()\n",
    "        model_logger.info(f'Accuracy of the network on the test images: {100 * correct / total}%')\n",
    "\n",
    "    def save_model(self,path):\n",
    "        torch.save(self.net.state_dict(), path)\n",
    "        model_logger.info('Model Saved')\n",
    "\n",
    "    def load_model(self,path):\n",
    "        self.net.load_state_dict(torch.load(path))\n",
    "        model_logger.info('Model Loaded')\n"
   ]
  },
  {
   "cell_type": "code",
   "execution_count": 33,
   "metadata": {},
   "outputs": [
    {
     "name": "stderr",
     "output_type": "stream",
     "text": [
      "2025-01-08 20:25:17,398 -  DATA - INFO - Data loaded successfully\n"
     ]
    },
    {
     "data": {
      "image/png": "[encoded data removed]",
      "text/plain": [
       "<Figure size 1000x250 with 4 Axes>"
      ]
     },
     "metadata": {},
     "output_type": "display_data"
    },
    {
     "name": "stderr",
     "output_type": "stream",
     "text": [
      "2025-01-08 20:25:17,463 -  DATA - INFO - Data visualisation done\n",
      "2025-01-08 20:25:17,525 - MODEL - INFO - Model Parameters Set\n",
      "2025-01-08 20:25:17,535 - MODEL - INFO - Start Training\n"
     ]
    },
    {
     "name": "stdout",
     "output_type": "stream",
     "text": [
      "Batch 1:\n",
      "  Input shape: torch.Size([64, 1, 40, 168])\n",
      "  Labels shape: torch.Size([64])\n"
     ]
    },
    {
     "data": {
      "application/vnd.jupyter.widget-view+json": {
       "model_id": "78bf9050b72048ffbf2c32bbeff1bee3",
       "version_major": 2,
       "version_minor": 0
      },
      "text/plain": [
       "Training Progress:   0%|          | 0/50 [00:00<?, ?it/s]"
      ]
     },
     "metadata": {},
     "output_type": "display_data"
    },
    {
     "name": "stdout",
     "output_type": "stream",
     "text": [
      "Epoch 1 : Training Loss: 3.2487305886448383 Validation Loss: 3.186638168990612\n",
      "Epoch 2 : Training Loss: 3.1755640681940145 Validation Loss: 3.166245400905609\n",
      "Epoch 3 : Training Loss: 2.9639145764299095 Validation Loss: 2.643417976796627\n",
      "Epoch 4 : Training Loss: 2.5005677812777387 Validation Loss: 2.4345950186252594\n",
      "Epoch 5 : Training Loss: 2.3013194612801646 Validation Loss: 2.2841274365782738\n",
      "Epoch 6 : Training Loss: 2.195340725941399 Validation Loss: 2.099014114588499\n",
      "Epoch 7 : Training Loss: 2.1014797935089744 Validation Loss: 2.119258850812912\n",
      "Epoch 8 : Training Loss: 2.019325969699092 Validation Loss: 1.9603568203747272\n",
      "Epoch 9 : Training Loss: 1.9614153742409361 Validation Loss: 1.9815005138516426\n",
      "Epoch 10 : Training Loss: 1.9141002093641142 Validation Loss: 1.9204153157770634\n",
      "Epoch 11 : Training Loss: 1.8523352058550802 Validation Loss: 1.9662907980382442\n",
      "Epoch 12 : Training Loss: 1.8102477278572302 Validation Loss: 1.9266358464956284\n",
      "Epoch 13 : Training Loss: 1.7679412566815702 Validation Loss: 1.8605410568416119\n",
      "Epoch 14 : Training Loss: 1.7110878012050836 Validation Loss: 1.896259468048811\n",
      "Epoch 15 : Training Loss: 1.6881623207189786 Validation Loss: 1.8578457534313202\n",
      "Epoch 16 : Training Loss: 1.6431380936893791 Validation Loss: 1.9854569546878338\n",
      "Epoch 17 : Training Loss: 1.6017284838917156 Validation Loss: 1.8959948904812336\n",
      "Epoch 18 : Training Loss: 1.5708671008436064 Validation Loss: 1.9751082994043827\n",
      "Epoch 19 : Training Loss: 1.538369050802895 Validation Loss: 2.0525377839803696\n"
     ]
    },
    {
     "name": "stderr",
     "output_type": "stream",
     "text": [
      "2025-01-08 20:27:05,177 - MODEL - INFO - Early stopping triggered\n",
      "2025-01-08 20:27:05,179 - MODEL - INFO - Finished Training\n"
     ]
    },
    {
     "name": "stdout",
     "output_type": "stream",
     "text": [
      "Epoch 20 : Training Loss: 1.486363494738984 Validation Loss: 1.9026965908706188\n"
     ]
    }
   ],
   "source": [
    "data = load_data()\n",
    "visualize(data[\"test_dataloader\"],data[\"train_dataloader\"])\n",
    "\n",
    "net = CNN()\n",
    "device = torch.device(\"cuda:0\" if torch.cuda.is_available() else \"cpu\")\n",
    "criterion = nn.CrossEntropyLoss()\n",
    "optim = optim.Adam(net.parameters(), lr=0.003)\n",
    "\n",
    "model = Model()\n",
    "model.set_params(device,net,data,optim,criterion)\n",
    "model.train(epochs=50,lr=0.003)\n"
   ]
  },
  {
   "cell_type": "code",
   "execution_count": 34,
   "metadata": {},
   "outputs": [
    {
     "name": "stderr",
     "output_type": "stream",
     "text": [
      "2025-01-08 20:27:05,236 - MODEL - INFO - Model Saved\n"
     ]
    }
   ],
   "source": [
    "model.save_model('./model.pth')"
   ]
  }
 ],
 "metadata": {
  "kernelspec": {
   "display_name": "RRC",
   "language": "python",
   "name": "python3"
  },
  "language_info": {
   "codemirror_mode": {
    "name": "ipython",
    "version": 3
   },
   "file_extension": ".py",
   "mimetype": "text/x-python",
   "name": "python",
   "nbconvert_exporter": "python",
   "pygments_lexer": "ipython3",
   "version": "3.10.15"
  }
 },
 "nbformat": 4,
 "nbformat_minor": 2
}
