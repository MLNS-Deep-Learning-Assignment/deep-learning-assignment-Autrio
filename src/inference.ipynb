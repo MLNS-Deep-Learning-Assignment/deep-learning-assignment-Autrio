{
 "cells": [
  {
   "cell_type": "code",
   "execution_count": 37,
   "metadata": {},
   "outputs": [],
   "source": [
    "import torch\n",
    "import torchvision\n",
    "import torchvision.transforms as transforms\n",
    "import torch.nn as nn\n",
    "import torch.optim as optim\n",
    "import torch.nn.functional as F\n",
    "import matplotlib.pyplot as plt\n",
    "import numpy as np\n",
    "import os\n",
    "import time\n",
    "from torch.utils.data import TensorDataset, DataLoader\n",
    "import logging\n",
    "from tqdm.notebook import tqdm"
   ]
  },
  {
   "cell_type": "code",
   "execution_count": 38,
   "metadata": {},
   "outputs": [],
   "source": [
    "logging.basicConfig(level=logging.INFO, format='%(asctime)s - %(name)s - %(levelname)s - %(message)s')\n",
    "data_logger = logging.getLogger(\" DATA\")\n"
   ]
  },
  {
   "cell_type": "markdown",
   "metadata": {},
   "source": [
    "```markdown\n",
    "we are using `data0` and `data1` for training, and `data2` for testing. This setup allows us to train our model on a diverse set of data and evaluate its performance on a separate test set to ensure generalization.\n",
    "```"
   ]
  },
  {
   "cell_type": "code",
   "execution_count": 39,
   "metadata": {},
   "outputs": [],
   "source": [
    "#! Data processing\n",
    "\n",
    "def load_data():\n",
    "    img_data_0 = np.load('../data/data0.npy')\n",
    "    img_data_1 = np.load('../data/data1.npy')\n",
    "    img_data_2 = np.load('../data/data2.npy')\n",
    "    img_label0 = np.load('../data/lab0.npy')\n",
    "    img_label1 = np.load('../data/lab1.npy')\n",
    "    img_label2 = np.load('../data/lab2.npy')\n",
    "\n",
    "    xtrain = torch.tensor(np.concatenate((img_data_0, img_data_1)),dtype=torch.float32).unsqueeze(1)\n",
    "    xtest = torch.tensor(img_data_2,dtype=torch.float32).unsqueeze(1)\n",
    "\n",
    "    ytrain = torch.tensor(np.concatenate((img_label0, img_label1)),dtype=torch.float32)\n",
    "    ytest = torch.tensor(img_label2,dtype=torch.float32)\n",
    "\n",
    "    train_dataset = TensorDataset(xtrain, ytrain)\n",
    "    train_dataloader = DataLoader(train_dataset, batch_size=64, shuffle=True)\n",
    "\n",
    "    test_dataset = TensorDataset(xtest, ytest)\n",
    "    test_dataloader = DataLoader(test_dataset, batch_size=64, shuffle=True)\n",
    "    data_logger.info(\"Data loaded successfully\")\n",
    "    return {\n",
    "        \"train_dataloader\": train_dataloader,\n",
    "        \"test_dataloader\": test_dataloader,\n",
    "        \"train_dataset\": train_dataset,\n",
    "        \"test_dataset\": test_dataset,\n",
    "        \"xtrain\": xtrain,\n",
    "        \"xtest\": xtest,\n",
    "        \"ytrain\": ytrain,\n",
    "        \"ytest\": ytest\n",
    "    }\n",
    "\n"
   ]
  },
  {
   "cell_type": "code",
   "execution_count": 40,
   "metadata": {},
   "outputs": [],
   "source": [
    "#! visualisation\n",
    "\n",
    "def visualize(test_dataloader,train_dataloader):\n",
    "    test_data_iter = iter(test_dataloader)\n",
    "    test_images, test_labels = next(test_data_iter)\n",
    "\n",
    "    # Plot the first 4 images in the batch\n",
    "    fig, axes = plt.subplots(1, 4, figsize=(10, 2.5))\n",
    "    for i in range(4):\n",
    "        ax = axes[i]\n",
    "        ax.imshow(test_images[i].numpy().squeeze(), cmap='gray')\n",
    "        ax.set_title(f'Label: {test_labels[i].item()}')\n",
    "        ax.axis('off')\n",
    "    plt.show()\n",
    "    # Iterate through the DataLoader\n",
    "    for i, (inputs, labels) in enumerate(train_dataloader):\n",
    "        print(f\"Batch {i + 1}:\")\n",
    "        print(f\"  Input shape: {inputs.shape}\")\n",
    "        print(f\"  Labels shape: {labels.shape}\")\n",
    "        # Break after the first batch to limit output (optional)\n",
    "        break\n",
    "    data_logger.info(\"Data visualisation done\")\n"
   ]
  },
  {
   "cell_type": "code",
   "execution_count": 41,
   "metadata": {},
   "outputs": [],
   "source": [
    "model_logger = logging.getLogger(\"MODEL\")"
   ]
  },
  {
   "cell_type": "code",
   "execution_count": 42,
   "metadata": {},
   "outputs": [],
   "source": [
    "class CNN(nn.Module):\n",
    "    def __init__(self):\n",
    "        super(CNN, self).__init__()\n",
    "        self.conv1 = nn.Conv2d(in_channels=1, out_channels=32, kernel_size=3, stride=1, padding=1)\n",
    "        self.bn1 = nn.BatchNorm2d(32)\n",
    "        self.conv2 = nn.Conv2d(in_channels=32, out_channels=64, kernel_size=3, stride=1, padding=1)\n",
    "        self.bn2 = nn.BatchNorm2d(64)\n",
    "        self.conv3 = nn.Conv2d(in_channels=64, out_channels=128, kernel_size=3, stride=1, padding=1)\n",
    "        self.bn3 = nn.BatchNorm2d(128)\n",
    "        self.conv4 = nn.Conv2d(in_channels=128, out_channels=256, kernel_size=3, stride=1, padding=1)\n",
    "        self.bn4 = nn.BatchNorm2d(256)\n",
    "        self.pool = nn.MaxPool2d(kernel_size=2, stride=2, padding=0)\n",
    "        self.dropout = nn.Dropout(p=0.5)\n",
    "\n",
    "        # Calculate the flattened size\n",
    "        \n",
    "        self.fc1 = nn.Linear(64*4*20, 512)\n",
    "        self.fc2 = nn.Linear(512, 256)\n",
    "        self.fc3 = nn.Linear(256, 37) \n",
    "\n",
    "    def forward(self, x):\n",
    "        x = self.pool(F.relu(self.bn1(self.conv1(x))))\n",
    "\n",
    "        x = self.pool(F.relu(self.bn2(self.conv2(x))))\n",
    "\n",
    "        x = self.pool(F.relu(self.bn3(self.conv3(x))))\n",
    "\n",
    "        x = self.pool(F.relu(self.bn4(self.conv4(x))))\n",
    "\n",
    "        x = x.view(-1, 256*2*10)  # Use dynamically computed size\n",
    "\n",
    "        x = F.relu(self.fc1(x))\n",
    "\n",
    "        x = self.dropout(x)\n",
    "\n",
    "        x = F.relu(self.fc2(x))\n",
    "\n",
    "        x = self.fc3(x)\n",
    "\n",
    "        return x"
   ]
  },
  {
   "cell_type": "code",
   "execution_count": 43,
   "metadata": {},
   "outputs": [],
   "source": [
    "class Model:\n",
    "    def __init__(self):\n",
    "        pass\n",
    "\n",
    "    def set_params(self,device,net,data,optim=None,criterion=nn.CrossEntropyLoss()):\n",
    "        self.device = device\n",
    "        self.net = net\n",
    "        self.data = data\n",
    "        self.optim = optim\n",
    "        self.criterion = criterion\n",
    "        model_logger.info('Model Parameters Set')\n",
    "\n",
    "    def train(self,epochs=10,lr=0.001):\n",
    "        self.net.to(self.device)\n",
    "        self.net.train()\n",
    "        self.optim = optim.Adam(self.net.parameters(), lr=lr) if optim is None else optim\n",
    "        model_logger.info('Start Training')\n",
    "        for epoch in tqdm(range(epochs), desc=\"Training Progress\"):\n",
    "            running_loss = 0.0\n",
    "            for i, data in enumerate(self.data[\"train_dataloader\"], 0):\n",
    "                inputs, labels = data[0].to(self.device), data[1].to(self.device)\n",
    "                self.optim.zero_grad()\n",
    "                outputs = self.net(inputs)\n",
    "                loss = self.criterion(outputs, labels.long())\n",
    "                loss.backward()\n",
    "                self.optim.step()\n",
    "                running_loss += loss.item()\n",
    "            tqdm.write(f\"Epoch {epoch + 1} : Loss: {running_loss / len(self.data['train_dataloader'])}\")\n",
    "        model_logger.info('Finished Training')\n",
    "\n",
    "    def test(self):\n",
    "        self.net.to(self.device)\n",
    "        self.net.eval()\n",
    "        correct = 0\n",
    "        total = 0\n",
    "        with torch.no_grad():\n",
    "            for data in self.data[\"test_dataloader\"]:\n",
    "                images, labels = data[0].to(self.device), data[1].to(self.device)\n",
    "                outputs = self.net(images)\n",
    "                _, predicted = torch.max(outputs.data, 1)\n",
    "                total += labels.size(0)\n",
    "                correct += (predicted == labels).sum().item()\n",
    "        model_logger.info(f'Accuracy of the network on the test images: {100 * correct / total}%')\n",
    "\n",
    "    def save_model(self,path):\n",
    "        torch.save(self.net.state_dict(), path)\n",
    "        model_logger.info('Model Saved')\n",
    "\n",
    "    def load_model(self,path):\n",
    "        self.net.load_state_dict(torch.load(path))\n",
    "        model_logger.info('Model Loaded')\n"
   ]
  },
  {
   "cell_type": "code",
   "execution_count": null,
   "metadata": {},
   "outputs": [
    {
     "name": "stderr",
     "output_type": "stream",
     "text": [
      "2025-01-08 20:28:32,275 -  DATA - INFO - Data loaded successfully\n"
     ]
    },
    {
     "data": {
      "image/png": "[encoded data removed]",
      "text/plain": [
       "<Figure size 1000x250 with 4 Axes>"
      ]
     },
     "metadata": {},
     "output_type": "display_data"
    },
    {
     "name": "stderr",
     "output_type": "stream",
     "text": [
      "2025-01-08 20:28:32,339 -  DATA - INFO - Data visualisation done\n",
      "2025-01-08 20:28:32,398 - MODEL - INFO - Model Parameters Set\n",
      "/tmp/ipykernel_32223/1127707819.py:50: FutureWarning: You are using `torch.load` with `weights_only=False` (the current default value), which uses the default pickle module implicitly. It is possible to construct malicious pickle data which will execute arbitrary code during unpickling (See https://github.com/pytorch/pytorch/blob/main/SECURITY.md#untrusted-models for more details). In a future release, the default value for `weights_only` will be flipped to `True`. This limits the functions that could be executed during unpickling. Arbitrary objects will no longer be allowed to be loaded via this mode unless they are explicitly allowlisted by the user via `torch.serialization.add_safe_globals`. We recommend you start setting `weights_only=True` for any use case where you don't have full control of the loaded file. Please open an issue on GitHub for any issues related to this experimental feature.\n",
      "  self.net.load_state_dict(torch.load(path))\n",
      "2025-01-08 20:28:32,410 - MODEL - INFO - Model Loaded\n"
     ]
    },
    {
     "name": "stdout",
     "output_type": "stream",
     "text": [
      "Batch 1:\n",
      "  Input shape: torch.Size([64, 1, 40, 168])\n",
      "  Labels shape: torch.Size([64])\n"
     ]
    }
   ],
   "source": [
    "data = load_data()\n",
    "visualize(data[\"test_dataloader\"],data[\"train_dataloader\"])\n",
    "\n",
    "net = CNN()\n",
    "device = torch.device(\"cuda:0\" if torch.cuda.is_available() else \"cpu\")\n",
    "criterion = nn.CrossEntropyLoss()\n",
    "optim = optim.Adam(net.parameters(), lr=0.001)\n",
    "\n",
    "model = Model()\n",
    "model.set_params(device,net,data,optim,criterion)\n",
    "model.load_model('./model.pth')"
   ]
  },
  {
   "cell_type": "code",
   "execution_count": 45,
   "metadata": {},
   "outputs": [
    {
     "name": "stderr",
     "output_type": "stream",
     "text": [
      "2025-01-08 20:28:33,284 - MODEL - INFO - Accuracy of the network on the test images: 30.12%\n"
     ]
    }
   ],
   "source": [
    "model.test()"
   ]
  }
 ],
 "metadata": {
  "kernelspec": {
   "display_name": "RRC",
   "language": "python",
   "name": "python3"
  },
  "language_info": {
   "codemirror_mode": {
    "name": "ipython",
    "version": 3
   },
   "file_extension": ".py",
   "mimetype": "text/x-python",
   "name": "python",
   "nbconvert_exporter": "python",
   "pygments_lexer": "ipython3",
   "version": "3.10.15"
  }
 },
 "nbformat": 4,
 "nbformat_minor": 2
}
